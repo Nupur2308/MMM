{
 "cells": [
  {
   "cell_type": "code",
   "execution_count": 22,
   "id": "2fa33ea4",
   "metadata": {},
   "outputs": [],
   "source": [
    "import pandas as pd\n",
    "import numpy as np\n",
    "import datetime\n",
    "from sklearn.model_selection import train_test_split\n",
    "from sklearn.preprocessing import StandardScaler\n",
    "from sklearn.linear_model import LinearRegression\n",
    "from sklearn.metrics import mean_squared_error, R2"
   ]
  },
  {
   "cell_type": "code",
   "execution_count": 8,
   "id": "f2878db3",
   "metadata": {},
   "outputs": [
    {
     "data": {
      "text/plain": [
       "Index(['Search-National Brand', 'Search-National Generic', 'Search-GO Brand',\n",
       "       'Search-GO Generic', 'Search-Lumino Brand', 'Search-Lumino Generic',\n",
       "       'Search-SLGI Brand', 'Search-SLGI Generic', 'Search-Other Brand',\n",
       "       'Search-Other Generic', 'Social-Brand', 'Social-GO', 'Social-Lumino',\n",
       "       'Social-Sponsorship', 'Social-Other', 'Display-Brand', 'Display-Lumino',\n",
       "       'Display-GO', 'Display-Sponsorship', 'Display-Other', 'Native-Brand',\n",
       "       'Native-Lumino', 'Native-GO', 'Native-Sponsorship', 'Native-Other',\n",
       "       'Video-Brand', 'Video-Lumino', 'Video-Sponsorship', 'Video-Other',\n",
       "       'DigitalAudio-Brand', 'DigitalAudio-Lumino', 'DigitalAudio-Other',\n",
       "       'TV-Total-Brand-Imps', 'TV-Total-Lumino-Imps', 'TV-Total-Spon-Imps',\n",
       "       'TV-Conv-Brand-Imps', 'TV-Conv-Lumino-Imps', 'TV-Spec-Brand-Imps',\n",
       "       'TV-Spec-Lumino-Imps', 'TV-Spec-Spon-Imps', 'TV-Total-Brand-GRPs',\n",
       "       'TV-Total-Lumino-GRPs', 'TV-Total-Spon-GRPs', 'TV-Conv-Brand-GRPs',\n",
       "       'TV-Conv-Lumino-GRPs', 'TV-Spec-Brand-GRPs', 'TV-Spec-Lumino-GRPs',\n",
       "       'TV-Spec-Spon-GRPs', 'OOH-Lumino', 'OOH-Brand', 'Radio-Brand',\n",
       "       'Radio-Lumino', 'Radio-QC', 'eDirects-SLGI', 'eDirects-GB'],\n",
       "      dtype='object')"
      ]
     },
     "execution_count": 8,
     "metadata": {},
     "output_type": "execute_result"
    }
   ],
   "source": [
    "df = pd.read_csv('Media variables 2021-11-18.csv',index_col =0)\n",
    "df.index = pd.to_datetime(df.index)\n",
    "\n",
    "features = df.columns[14:]\n",
    "features"
   ]
  },
  {
   "cell_type": "code",
   "execution_count": 21,
   "id": "7a52c5d3",
   "metadata": {},
   "outputs": [],
   "source": [
    "start_date = '2018-10-22'\n",
    "end_date = '2021-06-28'\n",
    "end_formatted = datetime.datetime.strptime(end_date, \"%Y-%m-%d\")\n",
    "\n",
    "yvar = 'FAA Lead Form Impressions'\n",
    "X = df.loc[start_date:end_date][features]\n",
    "y = df.loc[start_date:end_date][yvar]\n",
    "\n",
    "X_test = df.loc[end_formatted+datetime.timedelta(days=7):max(df.index)][features]\n",
    "y_test = df.loc[end_formatted+datetime.timedelta(days=7):max(df.index)][yvar]"
   ]
  },
  {
   "cell_type": "code",
   "execution_count": null,
   "id": "491e28c9",
   "metadata": {},
   "outputs": [],
   "source": [
    "pipe = Pipeline([\n",
    "    ('sc',StandardScaler()),\n",
    "    ('reg',LinearRegression())\n",
    "])"
   ]
  }
 ],
 "metadata": {
  "kernelspec": {
   "display_name": "Python 3 (ipykernel)",
   "language": "python",
   "name": "python3"
  },
  "language_info": {
   "codemirror_mode": {
    "name": "ipython",
    "version": 3
   },
   "file_extension": ".py",
   "mimetype": "text/x-python",
   "name": "python",
   "nbconvert_exporter": "python",
   "pygments_lexer": "ipython3",
   "version": "3.9.7"
  }
 },
 "nbformat": 4,
 "nbformat_minor": 5
}
