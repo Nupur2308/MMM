{
 "cells": [
  {
   "cell_type": "code",
   "execution_count": 4,
   "id": "b7cc54a3",
   "metadata": {},
   "outputs": [],
   "source": [
    "import pandas as pd\n",
    "import numpy as np\n",
    "import datetime\n",
    "import matplotlib.pyplot as plt\n",
    "import seaborn as sns\n",
    "\n",
    "from sklearn.model_selection import train_test_split\n",
    "from sklearn.preprocessing import StandardScaler, MinMaxScaler\n",
    "from sklearn.linear_model import Ridge, Lasso\n",
    "from sklearn.metrics import mean_squared_error as mse\n",
    "from sklearn.pipeline import Pipeline\n",
    "from sklearn.model_selection import cross_val_score\n",
    "from sklearn.model_selection import cross_validate\n",
    "from sklearn.model_selection import GridSearchCV"
   ]
  },
  {
   "cell_type": "code",
   "execution_count": 371,
   "id": "bfa3d81b",
   "metadata": {},
   "outputs": [
    {
     "data": {
      "text/html": [
       "<div>\n",
       "<style scoped>\n",
       "    .dataframe tbody tr th:only-of-type {\n",
       "        vertical-align: middle;\n",
       "    }\n",
       "\n",
       "    .dataframe tbody tr th {\n",
       "        vertical-align: top;\n",
       "    }\n",
       "\n",
       "    .dataframe thead th {\n",
       "        text-align: right;\n",
       "    }\n",
       "</style>\n",
       "<table border=\"1\" class=\"dataframe\">\n",
       "  <thead>\n",
       "    <tr style=\"text-align: right;\">\n",
       "      <th></th>\n",
       "      <th>Search-National Brand</th>\n",
       "      <th>Search-National Generic</th>\n",
       "      <th>Search-GO Brand</th>\n",
       "      <th>Search-GO Generic</th>\n",
       "      <th>Search-Lumino Brand</th>\n",
       "      <th>Search-Lumino Generic</th>\n",
       "      <th>Search-SLGI Brand</th>\n",
       "      <th>Search-SLGI Generic</th>\n",
       "      <th>Search-Other Brand</th>\n",
       "      <th>Search-Other Generic</th>\n",
       "      <th>...</th>\n",
       "      <th>TV-Spec-Brand-GRPs</th>\n",
       "      <th>TV-Spec-Lumino-GRPs</th>\n",
       "      <th>TV-Spec-Spon-GRPs</th>\n",
       "      <th>OOH-Lumino</th>\n",
       "      <th>OOH-Brand</th>\n",
       "      <th>Radio-Brand</th>\n",
       "      <th>Radio-Lumino</th>\n",
       "      <th>Radio-QC</th>\n",
       "      <th>eDirects-SLGI</th>\n",
       "      <th>eDirects-GB</th>\n",
       "    </tr>\n",
       "    <tr>\n",
       "      <th>Date</th>\n",
       "      <th></th>\n",
       "      <th></th>\n",
       "      <th></th>\n",
       "      <th></th>\n",
       "      <th></th>\n",
       "      <th></th>\n",
       "      <th></th>\n",
       "      <th></th>\n",
       "      <th></th>\n",
       "      <th></th>\n",
       "      <th></th>\n",
       "      <th></th>\n",
       "      <th></th>\n",
       "      <th></th>\n",
       "      <th></th>\n",
       "      <th></th>\n",
       "      <th></th>\n",
       "      <th></th>\n",
       "      <th></th>\n",
       "      <th></th>\n",
       "      <th></th>\n",
       "    </tr>\n",
       "  </thead>\n",
       "  <tbody>\n",
       "    <tr>\n",
       "      <th>2018-10-22</th>\n",
       "      <td>59754.0</td>\n",
       "      <td>125031.0</td>\n",
       "      <td>110.0</td>\n",
       "      <td>3575.0</td>\n",
       "      <td>0.0</td>\n",
       "      <td>125017.0</td>\n",
       "      <td>0.0</td>\n",
       "      <td>0.0</td>\n",
       "      <td>186.0</td>\n",
       "      <td>14739.0</td>\n",
       "      <td>...</td>\n",
       "      <td>5.51</td>\n",
       "      <td>0.0</td>\n",
       "      <td>0.00</td>\n",
       "      <td>23130336.0</td>\n",
       "      <td>0.0</td>\n",
       "      <td>0.0</td>\n",
       "      <td>0.00</td>\n",
       "      <td>0.0</td>\n",
       "      <td>0.0</td>\n",
       "      <td>0.0</td>\n",
       "    </tr>\n",
       "    <tr>\n",
       "      <th>2018-10-29</th>\n",
       "      <td>57271.0</td>\n",
       "      <td>104108.0</td>\n",
       "      <td>100.0</td>\n",
       "      <td>3752.0</td>\n",
       "      <td>0.0</td>\n",
       "      <td>135685.0</td>\n",
       "      <td>0.0</td>\n",
       "      <td>0.0</td>\n",
       "      <td>104.0</td>\n",
       "      <td>17817.0</td>\n",
       "      <td>...</td>\n",
       "      <td>44.18</td>\n",
       "      <td>0.0</td>\n",
       "      <td>0.00</td>\n",
       "      <td>45742058.0</td>\n",
       "      <td>2203168.0</td>\n",
       "      <td>0.0</td>\n",
       "      <td>444.45</td>\n",
       "      <td>0.0</td>\n",
       "      <td>0.0</td>\n",
       "      <td>0.0</td>\n",
       "    </tr>\n",
       "    <tr>\n",
       "      <th>2018-11-05</th>\n",
       "      <td>41938.0</td>\n",
       "      <td>74833.0</td>\n",
       "      <td>139.0</td>\n",
       "      <td>3090.0</td>\n",
       "      <td>0.0</td>\n",
       "      <td>135940.0</td>\n",
       "      <td>0.0</td>\n",
       "      <td>0.0</td>\n",
       "      <td>0.0</td>\n",
       "      <td>18849.0</td>\n",
       "      <td>...</td>\n",
       "      <td>77.69</td>\n",
       "      <td>0.0</td>\n",
       "      <td>0.00</td>\n",
       "      <td>48569475.0</td>\n",
       "      <td>2608168.0</td>\n",
       "      <td>0.0</td>\n",
       "      <td>444.32</td>\n",
       "      <td>0.0</td>\n",
       "      <td>0.0</td>\n",
       "      <td>0.0</td>\n",
       "    </tr>\n",
       "    <tr>\n",
       "      <th>2018-11-12</th>\n",
       "      <td>38689.0</td>\n",
       "      <td>60305.0</td>\n",
       "      <td>108.0</td>\n",
       "      <td>2033.0</td>\n",
       "      <td>0.0</td>\n",
       "      <td>52676.0</td>\n",
       "      <td>0.0</td>\n",
       "      <td>0.0</td>\n",
       "      <td>0.0</td>\n",
       "      <td>20783.0</td>\n",
       "      <td>...</td>\n",
       "      <td>82.28</td>\n",
       "      <td>0.0</td>\n",
       "      <td>2.47</td>\n",
       "      <td>47643305.0</td>\n",
       "      <td>2608168.0</td>\n",
       "      <td>0.0</td>\n",
       "      <td>444.01</td>\n",
       "      <td>0.0</td>\n",
       "      <td>0.0</td>\n",
       "      <td>0.0</td>\n",
       "    </tr>\n",
       "    <tr>\n",
       "      <th>2018-11-19</th>\n",
       "      <td>48682.0</td>\n",
       "      <td>88334.0</td>\n",
       "      <td>189.0</td>\n",
       "      <td>2895.0</td>\n",
       "      <td>0.0</td>\n",
       "      <td>73479.0</td>\n",
       "      <td>0.0</td>\n",
       "      <td>0.0</td>\n",
       "      <td>0.0</td>\n",
       "      <td>20169.0</td>\n",
       "      <td>...</td>\n",
       "      <td>84.98</td>\n",
       "      <td>0.0</td>\n",
       "      <td>1.64</td>\n",
       "      <td>49494776.0</td>\n",
       "      <td>2608168.0</td>\n",
       "      <td>0.0</td>\n",
       "      <td>443.22</td>\n",
       "      <td>0.0</td>\n",
       "      <td>0.0</td>\n",
       "      <td>0.0</td>\n",
       "    </tr>\n",
       "    <tr>\n",
       "      <th>...</th>\n",
       "      <td>...</td>\n",
       "      <td>...</td>\n",
       "      <td>...</td>\n",
       "      <td>...</td>\n",
       "      <td>...</td>\n",
       "      <td>...</td>\n",
       "      <td>...</td>\n",
       "      <td>...</td>\n",
       "      <td>...</td>\n",
       "      <td>...</td>\n",
       "      <td>...</td>\n",
       "      <td>...</td>\n",
       "      <td>...</td>\n",
       "      <td>...</td>\n",
       "      <td>...</td>\n",
       "      <td>...</td>\n",
       "      <td>...</td>\n",
       "      <td>...</td>\n",
       "      <td>...</td>\n",
       "      <td>...</td>\n",
       "      <td>...</td>\n",
       "    </tr>\n",
       "    <tr>\n",
       "      <th>2021-09-27</th>\n",
       "      <td>139471.0</td>\n",
       "      <td>0.0</td>\n",
       "      <td>4106.0</td>\n",
       "      <td>14466.0</td>\n",
       "      <td>2965.0</td>\n",
       "      <td>76924.0</td>\n",
       "      <td>1319.0</td>\n",
       "      <td>39496.0</td>\n",
       "      <td>47.0</td>\n",
       "      <td>4787.0</td>\n",
       "      <td>...</td>\n",
       "      <td>1.74</td>\n",
       "      <td>0.0</td>\n",
       "      <td>0.00</td>\n",
       "      <td>0.0</td>\n",
       "      <td>0.0</td>\n",
       "      <td>0.0</td>\n",
       "      <td>0.00</td>\n",
       "      <td>0.0</td>\n",
       "      <td>4304.0</td>\n",
       "      <td>0.0</td>\n",
       "    </tr>\n",
       "    <tr>\n",
       "      <th>2021-10-04</th>\n",
       "      <td>142743.0</td>\n",
       "      <td>0.0</td>\n",
       "      <td>4418.0</td>\n",
       "      <td>16436.0</td>\n",
       "      <td>2765.0</td>\n",
       "      <td>73310.0</td>\n",
       "      <td>1744.0</td>\n",
       "      <td>30142.0</td>\n",
       "      <td>66.0</td>\n",
       "      <td>6928.0</td>\n",
       "      <td>...</td>\n",
       "      <td>0.00</td>\n",
       "      <td>0.0</td>\n",
       "      <td>0.00</td>\n",
       "      <td>0.0</td>\n",
       "      <td>0.0</td>\n",
       "      <td>0.0</td>\n",
       "      <td>0.00</td>\n",
       "      <td>0.0</td>\n",
       "      <td>9892.0</td>\n",
       "      <td>967.0</td>\n",
       "    </tr>\n",
       "    <tr>\n",
       "      <th>2021-10-11</th>\n",
       "      <td>143109.0</td>\n",
       "      <td>0.0</td>\n",
       "      <td>4392.0</td>\n",
       "      <td>19032.0</td>\n",
       "      <td>2723.0</td>\n",
       "      <td>60068.0</td>\n",
       "      <td>2062.0</td>\n",
       "      <td>63449.0</td>\n",
       "      <td>53.0</td>\n",
       "      <td>5936.0</td>\n",
       "      <td>...</td>\n",
       "      <td>52.98</td>\n",
       "      <td>0.0</td>\n",
       "      <td>0.00</td>\n",
       "      <td>0.0</td>\n",
       "      <td>0.0</td>\n",
       "      <td>0.0</td>\n",
       "      <td>0.00</td>\n",
       "      <td>0.0</td>\n",
       "      <td>2533.0</td>\n",
       "      <td>0.0</td>\n",
       "    </tr>\n",
       "    <tr>\n",
       "      <th>2021-10-18</th>\n",
       "      <td>136866.0</td>\n",
       "      <td>0.0</td>\n",
       "      <td>4484.0</td>\n",
       "      <td>18625.0</td>\n",
       "      <td>3013.0</td>\n",
       "      <td>48411.0</td>\n",
       "      <td>2284.0</td>\n",
       "      <td>77138.0</td>\n",
       "      <td>53.0</td>\n",
       "      <td>6405.0</td>\n",
       "      <td>...</td>\n",
       "      <td>73.74</td>\n",
       "      <td>0.0</td>\n",
       "      <td>0.00</td>\n",
       "      <td>0.0</td>\n",
       "      <td>0.0</td>\n",
       "      <td>0.0</td>\n",
       "      <td>0.00</td>\n",
       "      <td>0.0</td>\n",
       "      <td>5403.0</td>\n",
       "      <td>13387.0</td>\n",
       "    </tr>\n",
       "    <tr>\n",
       "      <th>2021-10-25</th>\n",
       "      <td>142089.0</td>\n",
       "      <td>0.0</td>\n",
       "      <td>4129.0</td>\n",
       "      <td>18370.0</td>\n",
       "      <td>3062.0</td>\n",
       "      <td>45093.0</td>\n",
       "      <td>2950.0</td>\n",
       "      <td>83284.0</td>\n",
       "      <td>48.0</td>\n",
       "      <td>7058.0</td>\n",
       "      <td>...</td>\n",
       "      <td>97.85</td>\n",
       "      <td>0.0</td>\n",
       "      <td>0.00</td>\n",
       "      <td>0.0</td>\n",
       "      <td>0.0</td>\n",
       "      <td>0.0</td>\n",
       "      <td>0.00</td>\n",
       "      <td>0.0</td>\n",
       "      <td>13861.0</td>\n",
       "      <td>5011.0</td>\n",
       "    </tr>\n",
       "  </tbody>\n",
       "</table>\n",
       "<p>158 rows × 55 columns</p>\n",
       "</div>"
      ],
      "text/plain": [
       "            Search-National Brand  Search-National Generic  Search-GO Brand  \\\n",
       "Date                                                                          \n",
       "2018-10-22                59754.0                 125031.0            110.0   \n",
       "2018-10-29                57271.0                 104108.0            100.0   \n",
       "2018-11-05                41938.0                  74833.0            139.0   \n",
       "2018-11-12                38689.0                  60305.0            108.0   \n",
       "2018-11-19                48682.0                  88334.0            189.0   \n",
       "...                           ...                      ...              ...   \n",
       "2021-09-27               139471.0                      0.0           4106.0   \n",
       "2021-10-04               142743.0                      0.0           4418.0   \n",
       "2021-10-11               143109.0                      0.0           4392.0   \n",
       "2021-10-18               136866.0                      0.0           4484.0   \n",
       "2021-10-25               142089.0                      0.0           4129.0   \n",
       "\n",
       "            Search-GO Generic  Search-Lumino Brand  Search-Lumino Generic  \\\n",
       "Date                                                                        \n",
       "2018-10-22             3575.0                  0.0               125017.0   \n",
       "2018-10-29             3752.0                  0.0               135685.0   \n",
       "2018-11-05             3090.0                  0.0               135940.0   \n",
       "2018-11-12             2033.0                  0.0                52676.0   \n",
       "2018-11-19             2895.0                  0.0                73479.0   \n",
       "...                       ...                  ...                    ...   \n",
       "2021-09-27            14466.0               2965.0                76924.0   \n",
       "2021-10-04            16436.0               2765.0                73310.0   \n",
       "2021-10-11            19032.0               2723.0                60068.0   \n",
       "2021-10-18            18625.0               3013.0                48411.0   \n",
       "2021-10-25            18370.0               3062.0                45093.0   \n",
       "\n",
       "            Search-SLGI Brand  Search-SLGI Generic  Search-Other Brand  \\\n",
       "Date                                                                     \n",
       "2018-10-22                0.0                  0.0               186.0   \n",
       "2018-10-29                0.0                  0.0               104.0   \n",
       "2018-11-05                0.0                  0.0                 0.0   \n",
       "2018-11-12                0.0                  0.0                 0.0   \n",
       "2018-11-19                0.0                  0.0                 0.0   \n",
       "...                       ...                  ...                 ...   \n",
       "2021-09-27             1319.0              39496.0                47.0   \n",
       "2021-10-04             1744.0              30142.0                66.0   \n",
       "2021-10-11             2062.0              63449.0                53.0   \n",
       "2021-10-18             2284.0              77138.0                53.0   \n",
       "2021-10-25             2950.0              83284.0                48.0   \n",
       "\n",
       "            Search-Other Generic  ...  TV-Spec-Brand-GRPs  \\\n",
       "Date                              ...                       \n",
       "2018-10-22               14739.0  ...                5.51   \n",
       "2018-10-29               17817.0  ...               44.18   \n",
       "2018-11-05               18849.0  ...               77.69   \n",
       "2018-11-12               20783.0  ...               82.28   \n",
       "2018-11-19               20169.0  ...               84.98   \n",
       "...                          ...  ...                 ...   \n",
       "2021-09-27                4787.0  ...                1.74   \n",
       "2021-10-04                6928.0  ...                0.00   \n",
       "2021-10-11                5936.0  ...               52.98   \n",
       "2021-10-18                6405.0  ...               73.74   \n",
       "2021-10-25                7058.0  ...               97.85   \n",
       "\n",
       "            TV-Spec-Lumino-GRPs  TV-Spec-Spon-GRPs  OOH-Lumino  OOH-Brand  \\\n",
       "Date                                                                        \n",
       "2018-10-22                  0.0               0.00  23130336.0        0.0   \n",
       "2018-10-29                  0.0               0.00  45742058.0  2203168.0   \n",
       "2018-11-05                  0.0               0.00  48569475.0  2608168.0   \n",
       "2018-11-12                  0.0               2.47  47643305.0  2608168.0   \n",
       "2018-11-19                  0.0               1.64  49494776.0  2608168.0   \n",
       "...                         ...                ...         ...        ...   \n",
       "2021-09-27                  0.0               0.00         0.0        0.0   \n",
       "2021-10-04                  0.0               0.00         0.0        0.0   \n",
       "2021-10-11                  0.0               0.00         0.0        0.0   \n",
       "2021-10-18                  0.0               0.00         0.0        0.0   \n",
       "2021-10-25                  0.0               0.00         0.0        0.0   \n",
       "\n",
       "            Radio-Brand  Radio-Lumino  Radio-QC  eDirects-SLGI  eDirects-GB  \n",
       "Date                                                                         \n",
       "2018-10-22          0.0          0.00       0.0            0.0          0.0  \n",
       "2018-10-29          0.0        444.45       0.0            0.0          0.0  \n",
       "2018-11-05          0.0        444.32       0.0            0.0          0.0  \n",
       "2018-11-12          0.0        444.01       0.0            0.0          0.0  \n",
       "2018-11-19          0.0        443.22       0.0            0.0          0.0  \n",
       "...                 ...           ...       ...            ...          ...  \n",
       "2021-09-27          0.0          0.00       0.0         4304.0          0.0  \n",
       "2021-10-04          0.0          0.00       0.0         9892.0        967.0  \n",
       "2021-10-11          0.0          0.00       0.0         2533.0          0.0  \n",
       "2021-10-18          0.0          0.00       0.0         5403.0      13387.0  \n",
       "2021-10-25          0.0          0.00       0.0        13861.0       5011.0  \n",
       "\n",
       "[158 rows x 55 columns]"
      ]
     },
     "execution_count": 371,
     "metadata": {},
     "output_type": "execute_result"
    }
   ],
   "source": [
    "df = pd.read_csv('Media variables 2021-11-18.csv',index_col =0)\n",
    "df.index = pd.to_datetime(df.index)\n",
    "media = df.iloc[:,14:]\n",
    "media"
   ]
  },
  {
   "cell_type": "code",
   "execution_count": 446,
   "id": "60b91ee5",
   "metadata": {},
   "outputs": [
    {
     "data": {
      "text/plain": [
       "Index(['Search-National Brand', 'Search-National Generic', 'Search-GO Brand',\n",
       "       'Search-GO Generic', 'Search-Lumino Brand', 'Search-Lumino Generic',\n",
       "       'Search-SLGI Brand', 'Search-SLGI Generic', 'Search-Other Brand',\n",
       "       'Search-Other Generic', 'Social-Brand', 'Social-GO', 'Social-Lumino',\n",
       "       'Social-Sponsorship', 'Social-Other', 'Display-Brand', 'Display-Lumino',\n",
       "       'Display-GO', 'Display-Sponsorship', 'Display-Other', 'Native-Brand',\n",
       "       'Native-Lumino', 'Native-GO', 'Native-Sponsorship', 'Native-Other',\n",
       "       'Video-Brand', 'Video-Lumino', 'Video-Sponsorship', 'Video-Other',\n",
       "       'DigitalAudio-Brand', 'DigitalAudio-Lumino', 'DigitalAudio-Other',\n",
       "       'TV-Total-Brand-Imps', 'TV-Total-Lumino-Imps', 'TV-Total-Spon-Imps',\n",
       "       'TV-Conv-Brand-Imps', 'TV-Conv-Lumino-Imps', 'TV-Spec-Brand-Imps',\n",
       "       'TV-Spec-Lumino-Imps', 'TV-Spec-Spon-Imps', 'TV-Total-Brand-GRPs',\n",
       "       'TV-Total-Lumino-GRPs', 'TV-Total-Spon-GRPs', 'TV-Conv-Brand-GRPs',\n",
       "       'TV-Conv-Lumino-GRPs', 'TV-Spec-Brand-GRPs', 'TV-Spec-Lumino-GRPs',\n",
       "       'TV-Spec-Spon-GRPs', 'OOH-Lumino', 'OOH-Brand', 'Radio-Brand',\n",
       "       'Radio-Lumino', 'Radio-QC', 'eDirects-SLGI', 'eDirects-GB'],\n",
       "      dtype='object')"
      ]
     },
     "execution_count": 446,
     "metadata": {},
     "output_type": "execute_result"
    }
   ],
   "source": [
    "features = media.columns\n",
    "features"
   ]
  },
  {
   "cell_type": "markdown",
   "id": "effbe024",
   "metadata": {},
   "source": [
    "### Model Build"
   ]
  },
  {
   "cell_type": "code",
   "execution_count": 373,
   "id": "399d6ab4",
   "metadata": {},
   "outputs": [
    {
     "data": {
      "text/plain": [
       "array([[59754.00, 125031.00, 110.00, ..., 0.00, 0.00, 0.00],\n",
       "       [57271.00, 104108.00, 100.00, ..., 0.00, 0.00, 0.00],\n",
       "       [41938.00, 74833.00, 139.00, ..., 0.00, 0.00, 0.00],\n",
       "       ...,\n",
       "       [31909.00, 0.00, 3795.00, ..., 0.00, 0.00, 0.00],\n",
       "       [78187.00, 0.00, 3472.00, ..., 0.00, 0.00, 0.00],\n",
       "       [73467.00, 0.00, 2084.00, ..., 0.00, 0.00, 0.00]])"
      ]
     },
     "execution_count": 373,
     "metadata": {},
     "output_type": "execute_result"
    }
   ],
   "source": [
    "start_date = '2018-10-22'\n",
    "end_date = '2021-06-28'\n",
    "end_formatted = datetime.datetime.strptime(end_date, \"%Y-%m-%d\")\n",
    "\n",
    "yvar = 'FAA Lead Form Impressions'\n",
    "X = np.array(media.loc[start_date:end_date])\n",
    "y = np.array(df.loc[start_date:end_date][yvar])\n",
    "\n",
    "X_test = np.array(media.loc[end_formatted+datetime.timedelta(days=7):max(media.index)])\n",
    "y_test = np.array(df.loc[end_formatted+datetime.timedelta(days=7):max(df.index)][yvar])\n",
    "X"
   ]
  },
  {
   "cell_type": "code",
   "execution_count": 386,
   "id": "95ba9d05",
   "metadata": {},
   "outputs": [],
   "source": [
    "pipe_rr = Pipeline([\n",
    "    ('sc',MinMaxScaler()),\n",
    "    ('reg',Ridge())\n",
    "])"
   ]
  },
  {
   "cell_type": "code",
   "execution_count": 389,
   "id": "ff8b928c",
   "metadata": {},
   "outputs": [],
   "source": [
    "param_range = {'reg__alpha':[0.0001, 0.001, 0.01, 0.1, 1.0, 10.0, 100.0, 1000.0]}\n",
    "ridge_reg = Ridge()"
   ]
  },
  {
   "cell_type": "code",
   "execution_count": 390,
   "id": "865f9cb1",
   "metadata": {},
   "outputs": [],
   "source": [
    "RR = GridSearchCV(estimator = pipe_rr,\n",
    "                  param_grid = param_range, \n",
    "                  scoring = 'neg_mean_squared_error',\n",
    "                  n_jobs = -1,\n",
    "                  cv = 10)"
   ]
  },
  {
   "cell_type": "code",
   "execution_count": 391,
   "id": "b8f0b6c7",
   "metadata": {},
   "outputs": [
    {
     "data": {
      "text/plain": [
       "GridSearchCV(cv=10,\n",
       "             estimator=Pipeline(steps=[('sc', MinMaxScaler()),\n",
       "                                       ('reg', Ridge())]),\n",
       "             n_jobs=-1,\n",
       "             param_grid={'reg__alpha': [0.0001, 0.001, 0.01, 0.1, 1.0, 10.0,\n",
       "                                        100.0, 1000.0]},\n",
       "             scoring='neg_mean_squared_error')"
      ]
     },
     "execution_count": 391,
     "metadata": {},
     "output_type": "execute_result"
    }
   ],
   "source": [
    "RR.fit(X,y)"
   ]
  },
  {
   "cell_type": "code",
   "execution_count": 392,
   "id": "eb821cfe",
   "metadata": {},
   "outputs": [
    {
     "data": {
      "text/plain": [
       "{'mean_fit_time': array([0.07, 0.00, 0.00, 0.00, 0.00, 0.00, 0.00, 0.00]),\n",
       " 'std_fit_time': array([0.04, 0.00, 0.00, 0.00, 0.00, 0.00, 0.00, 0.00]),\n",
       " 'mean_score_time': array([0.00, 0.00, 0.00, 0.00, 0.00, 0.00, 0.00, 0.00]),\n",
       " 'std_score_time': array([0.01, 0.00, 0.00, 0.00, 0.00, 0.00, 0.00, 0.00]),\n",
       " 'param_reg__alpha': masked_array(data=[0.0001, 0.001, 0.01, 0.1, 1.0, 10.0, 100.0, 1000.0],\n",
       "              mask=[False, False, False, False, False, False, False, False],\n",
       "        fill_value='?',\n",
       "             dtype=object),\n",
       " 'params': [{'reg__alpha': 0.0001},\n",
       "  {'reg__alpha': 0.001},\n",
       "  {'reg__alpha': 0.01},\n",
       "  {'reg__alpha': 0.1},\n",
       "  {'reg__alpha': 1.0},\n",
       "  {'reg__alpha': 10.0},\n",
       "  {'reg__alpha': 100.0},\n",
       "  {'reg__alpha': 1000.0}],\n",
       " 'split0_test_score': array([-3848274.23, -3622969.35, -3355625.87, -1977183.83, -1314936.79,\n",
       "        -2563286.70, -2073634.87, -1716253.27]),\n",
       " 'split1_test_score': array([-899005.88, -784918.43, -734606.70, -530095.52, -497700.18,\n",
       "        -473209.42, -79874.81, -183752.29]),\n",
       " 'split2_test_score': array([-365324.25, -376413.10, -361493.70, -256299.44, -229543.12,\n",
       "        -139919.99, -70512.76, -123706.01]),\n",
       " 'split3_test_score': array([-1158090.63, -1119351.75, -1118844.30, -1116982.44, -961127.80,\n",
       "        -860945.73, -1622112.27, -2181639.83]),\n",
       " 'split4_test_score': array([-1798731.56, -1803049.92, -1815880.09, -1886990.75, -2398055.33,\n",
       "        -3650608.12, -5340148.37, -6171150.66]),\n",
       " 'split5_test_score': array([-2231902.89, -2209688.72, -2198812.26, -2312240.23, -3801115.60,\n",
       "        -5542876.95, -5609322.09, -5415468.04]),\n",
       " 'split6_test_score': array([-536545.94, -527934.13, -521227.98, -578490.75, -1075952.21,\n",
       "        -2028077.59, -3120901.16, -3727715.17]),\n",
       " 'split7_test_score': array([-2590146.63, -1961620.14, -1691048.88, -1699940.70, -1716258.87,\n",
       "        -1132781.94, -2009845.65, -2986328.93]),\n",
       " 'split8_test_score': array([-3732492.36, -3532563.70, -6932096.65, -12878502.05, -7144511.14,\n",
       "        -8736461.13, -2343820.48, -2763012.27]),\n",
       " 'split9_test_score': array([-4514380.45, -4226462.39, -3812872.40, -2398402.64, -774249.23,\n",
       "        -916838.12, -2516117.68, -3336520.77]),\n",
       " 'mean_test_score': array([-2167489.48, -2016497.16, -2254250.88, -2563512.83, -1991345.03,\n",
       "        -2604500.57, -2478629.01, -2860554.72]),\n",
       " 'std_test_score': array([1401308.40, 1306767.11, 1903191.33, 3514646.57, 1981023.44,\n",
       "        2575538.82, 1763294.33, 1868620.76]),\n",
       " 'rank_test_score': array([3, 2, 4, 6, 1, 7, 5, 8])}"
      ]
     },
     "execution_count": 392,
     "metadata": {},
     "output_type": "execute_result"
    }
   ],
   "source": [
    "RR.cv_results_"
   ]
  },
  {
   "cell_type": "code",
   "execution_count": 393,
   "id": "15c9e777",
   "metadata": {},
   "outputs": [
    {
     "data": {
      "text/plain": [
       "{'reg__alpha': 1.0}"
      ]
     },
     "execution_count": 393,
     "metadata": {},
     "output_type": "execute_result"
    }
   ],
   "source": [
    "RR.best_params_"
   ]
  },
  {
   "cell_type": "code",
   "execution_count": 395,
   "id": "1b35d017",
   "metadata": {},
   "outputs": [
    {
     "data": {
      "text/plain": [
       "array([813.94, 1198.36, -1113.81, -522.82, 144.17, 175.99, -1647.76,\n",
       "       -919.92, -305.07, 253.94, 1431.16, -374.85, -406.92, 194.25,\n",
       "       -781.42, -2103.64, -638.44, -591.85, -750.83, 612.51, 515.58,\n",
       "       -239.86, -46.03, 438.21, -150.28, 500.27, -105.64, -448.89,\n",
       "       -287.78, -399.61, -1049.63, 10.72, 61.04, -20.45, -140.01, 414.68,\n",
       "       -36.17, -114.87, -9.58, -140.01, 57.13, -20.49, -145.37, 421.30,\n",
       "       -36.10, -123.44, -9.71, -144.91, -135.98, 1170.34, 1114.69,\n",
       "       -853.42, -161.91, 446.78, 195.26])"
      ]
     },
     "execution_count": 395,
     "metadata": {},
     "output_type": "execute_result"
    }
   ],
   "source": [
    "coef = RR.best_estimator_['reg'].coef_\n",
    "coef"
   ]
  },
  {
   "cell_type": "code",
   "execution_count": 396,
   "id": "6abbcc88",
   "metadata": {},
   "outputs": [
    {
     "data": {
      "text/plain": [
       "1411.1502498548155"
      ]
     },
     "execution_count": 396,
     "metadata": {},
     "output_type": "execute_result"
    }
   ],
   "source": [
    "np.sqrt(-RR.best_score_)"
   ]
  },
  {
   "cell_type": "code",
   "execution_count": 397,
   "id": "56923f01",
   "metadata": {},
   "outputs": [
    {
     "data": {
      "image/png": "[encoded data removed]",
      "text/plain": [
       "<Figure size 1080x360 with 1 Axes>"
      ]
     },
     "metadata": {
      "needs_background": "light"
     },
     "output_type": "display_data"
    }
   ],
   "source": [
    "tp = RR.best_estimator_.predict(X)\n",
    "ty = y\n",
    "\n",
    "fig = plt.figure(figsize=(15,5))\n",
    "plt.plot(np.arange(X.shape[0]),ty,'b-',label='Actual')\n",
    "plt.plot(np.arange(X.shape[0]),tp,'r-',label='Predicted')\n",
    "plt.legend()\n",
    "plt.title('Training Fit')\n",
    "plt.show()"
   ]
  },
  {
   "cell_type": "code",
   "execution_count": 398,
   "id": "eec25055",
   "metadata": {},
   "outputs": [],
   "source": [
    "def rmse(a,p):\n",
    "    return np.sqrt(mse(a,p))"
   ]
  },
  {
   "cell_type": "code",
   "execution_count": 399,
   "id": "0600870f",
   "metadata": {},
   "outputs": [
    {
     "name": "stdout",
     "output_type": "stream",
     "text": [
      "1648.8435419778205\n"
     ]
    },
    {
     "data": {
      "image/png": "[encoded data removed]",
      "text/plain": [
       "<Figure size 1080x360 with 1 Axes>"
      ]
     },
     "metadata": {
      "needs_background": "light"
     },
     "output_type": "display_data"
    }
   ],
   "source": [
    "testp = RR.best_estimator_.predict(X_test)\n",
    "testy = y_test\n",
    "test_rmse = rmse(testy,testp)\n",
    "\n",
    "print (test_rmse)\n",
    "fig = plt.figure(figsize=(15,5))\n",
    "plt.plot(np.arange(X_test.shape[0]),testy,'b-',label='Actual')\n",
    "plt.plot(np.arange(X_test.shape[0]),testp,'r-',label='Predicted')\n",
    "plt.legend()\n",
    "plt.title('Test Fit')\n",
    "plt.show()"
   ]
  },
  {
   "cell_type": "markdown",
   "id": "324547f0",
   "metadata": {},
   "source": [
    "### Getting Contributions"
   ]
  },
  {
   "cell_type": "code",
   "execution_count": 402,
   "id": "cafa70e1",
   "metadata": {},
   "outputs": [
    {
     "data": {
      "text/plain": [
       "array([[0.32, 0.83, 0.01, ..., 0.00, 0.00, 0.00],\n",
       "       [0.30, 0.69, 0.01, ..., 0.00, 0.00, 0.00],\n",
       "       [0.20, 0.50, 0.01, ..., 0.00, 0.00, 0.00],\n",
       "       ...,\n",
       "       [0.13, 0.00, 0.29, ..., 0.00, 0.00, 0.00],\n",
       "       [0.45, 0.00, 0.26, ..., 0.00, 0.00, 0.00],\n",
       "       [0.41, 0.00, 0.16, ..., 0.00, 0.00, 0.00]])"
      ]
     },
     "execution_count": 402,
     "metadata": {},
     "output_type": "execute_result"
    }
   ],
   "source": [
    "coef = RR.best_estimator_['reg'].coef_\n",
    "sc = MinMaxScaler()\n",
    "X_scaled = sc.fit(X).transform(X)\n",
    "X_scaled"
   ]
  },
  {
   "cell_type": "code",
   "execution_count": 403,
   "id": "77bca396",
   "metadata": {},
   "outputs": [
    {
     "data": {
      "text/plain": [
       "array([42290.70, 41123.17, -26211.77, -9285.24, 7153.76, 6516.92,\n",
       "       -46618.99, -12825.50, -14449.24, 11223.58, 67378.59, -6234.08,\n",
       "       -5950.43, 1198.33, -18660.74, -53527.90, -14195.91, -4016.05,\n",
       "       -15274.79, 12512.13, 8088.70, -3292.24, -198.16, 1714.74, -1061.34,\n",
       "       7214.85, -1773.63, -9370.72, -3953.16, -3534.80, -23384.58, 58.41,\n",
       "       1774.59, -105.71, -896.46, 8345.21, -219.28, -3418.42, -42.63,\n",
       "       -896.46, 1684.90, -105.83, -944.78, 8590.09, -218.85, -3728.66,\n",
       "       -43.08, -941.48, -831.77, 8392.79, 8217.51, -3410.22, -263.19,\n",
       "       5994.77, 638.49])"
      ]
     },
     "execution_count": 403,
     "metadata": {},
     "output_type": "execute_result"
    }
   ],
   "source": [
    "contr = np.sum(coef * X_scaled ,axis = 0)\n",
    "contr"
   ]
  },
  {
   "cell_type": "code",
   "execution_count": 408,
   "id": "9ff6c12f",
   "metadata": {},
   "outputs": [
    {
     "data": {
      "text/plain": [
       "488231.8805289312"
      ]
     },
     "execution_count": 408,
     "metadata": {},
     "output_type": "execute_result"
    }
   ],
   "source": [
    "base = RR.best_estimator_['reg'].intercept_ * X.shape[0]\n",
    "base"
   ]
  },
  {
   "cell_type": "code",
   "execution_count": 409,
   "id": "ff3b9523",
   "metadata": {},
   "outputs": [
    {
     "data": {
      "text/plain": [
       "448457.99999999994"
      ]
     },
     "execution_count": 409,
     "metadata": {},
     "output_type": "execute_result"
    }
   ],
   "source": [
    "base + sum(contr)"
   ]
  },
  {
   "cell_type": "code",
   "execution_count": 410,
   "id": "a37e6316",
   "metadata": {},
   "outputs": [
    {
     "data": {
      "text/plain": [
       "448458.0"
      ]
     },
     "execution_count": 410,
     "metadata": {},
     "output_type": "execute_result"
    }
   ],
   "source": [
    "sum(ty)"
   ]
  },
  {
   "cell_type": "code",
   "execution_count": 411,
   "id": "0417a3ef",
   "metadata": {},
   "outputs": [
    {
     "data": {
      "text/plain": [
       "array([ True, False,  True, False,  True, False,  True, False,  True,\n",
       "       False,  True, False, False, False, False,  True, False, False,\n",
       "       False, False,  True, False, False, False, False,  True, False,\n",
       "       False, False,  True, False, False,  True, False, False,  True,\n",
       "       False,  True, False, False,  True, False, False,  True, False,\n",
       "        True, False, False, False,  True,  True, False, False, False,\n",
       "       False])"
      ]
     },
     "execution_count": 411,
     "metadata": {},
     "output_type": "execute_result"
    }
   ],
   "source": [
    "brand_filter = features.str.contains(\"Brand\")\n",
    "brand_filter"
   ]
  },
  {
   "cell_type": "code",
   "execution_count": 412,
   "id": "e1835709",
   "metadata": {},
   "outputs": [
    {
     "data": {
      "text/plain": [
       "array([False,  True, False,  True, False,  True, False,  True, False,\n",
       "        True, False,  True,  True,  True,  True, False,  True,  True,\n",
       "        True,  True, False,  True,  True,  True,  True, False,  True,\n",
       "        True,  True, False,  True,  True, False,  True,  True, False,\n",
       "        True, False,  True,  True, False,  True,  True, False,  True,\n",
       "       False,  True,  True,  True, False, False,  True,  True,  True,\n",
       "        True])"
      ]
     },
     "execution_count": 412,
     "metadata": {},
     "output_type": "execute_result"
    }
   ],
   "source": [
    "nonbrand_filter = ~brand_filter\n",
    "nonbrand_filter"
   ]
  },
  {
   "cell_type": "code",
   "execution_count": 416,
   "id": "90d62fbd",
   "metadata": {},
   "outputs": [
    {
     "data": {
      "text/plain": [
       "{'Search-National Brand': 42290.702069508596,\n",
       " 'Search-GO Brand': -26211.772507904636,\n",
       " 'Search-Lumino Brand': 7153.764017357204,\n",
       " 'Search-SLGI Brand': -46618.98995774517,\n",
       " 'Search-Other Brand': -14449.244139811504,\n",
       " 'Social-Brand': 67378.58518001644,\n",
       " 'Display-Brand': -53527.90005898064,\n",
       " 'Native-Brand': 8088.699551847167,\n",
       " 'Video-Brand': 7214.848219898485,\n",
       " 'DigitalAudio-Brand': -3534.80431630273,\n",
       " 'TV-Total-Brand-Imps': 1774.5898262699166,\n",
       " 'TV-Conv-Brand-Imps': 8345.20862331268,\n",
       " 'TV-Spec-Brand-Imps': -3418.4162220566504,\n",
       " 'TV-Total-Brand-GRPs': 1684.900887360164,\n",
       " 'TV-Conv-Brand-GRPs': 8590.088693897304,\n",
       " 'TV-Spec-Brand-GRPs': -3728.655660202766,\n",
       " 'OOH-Brand': 8392.790074138322,\n",
       " 'Radio-Brand': 8217.51381496716}"
      ]
     },
     "execution_count": 416,
     "metadata": {},
     "output_type": "execute_result"
    }
   ],
   "source": [
    "brand_contr = contr[brand_filter]\n",
    "brand_dict = {}\n",
    "for var, cont in zip(features[brand_filter], brand_contr):\n",
    "    brand_dict.update({var : cont})\n",
    "brand_dict"
   ]
  },
  {
   "cell_type": "code",
   "execution_count": 418,
   "id": "b832504c",
   "metadata": {},
   "outputs": [
    {
     "data": {
      "text/plain": [
       "{'Search-National Generic': 41123.17066869374,\n",
       " 'Search-GO Generic': -9285.237801819094,\n",
       " 'Search-Lumino Generic': 6516.920452432514,\n",
       " 'Search-SLGI Generic': -12825.498887311956,\n",
       " 'Search-Other Generic': 11223.575880431596,\n",
       " 'Social-GO': -6234.08183725705,\n",
       " 'Social-Lumino': -5950.425857115557,\n",
       " 'Social-Sponsorship': 1198.3257611350282,\n",
       " 'Social-Other': -18660.744003065745,\n",
       " 'Display-Lumino': -14195.912851934996,\n",
       " 'Display-GO': -4016.0483217765686,\n",
       " 'Display-Sponsorship': -15274.790456355338,\n",
       " 'Display-Other': 12512.125157803272,\n",
       " 'Native-Lumino': -3292.2367719994113,\n",
       " 'Native-GO': -198.16271526382758,\n",
       " 'Native-Sponsorship': 1714.7436170936521,\n",
       " 'Native-Other': -1061.3366062072805,\n",
       " 'Video-Lumino': -1773.6279154746044,\n",
       " 'Video-Sponsorship': -9370.722317844726,\n",
       " 'Video-Other': -3953.1583735269687,\n",
       " 'DigitalAudio-Lumino': -23384.58162311913,\n",
       " 'DigitalAudio-Other': 58.40645303958947,\n",
       " 'TV-Total-Lumino-Imps': -105.71010164966052,\n",
       " 'TV-Total-Spon-Imps': -896.4605123471334,\n",
       " 'TV-Conv-Lumino-Imps': -219.28066336752454,\n",
       " 'TV-Spec-Lumino-Imps': -42.62682265502342,\n",
       " 'TV-Spec-Spon-Imps': -896.4605123471326,\n",
       " 'TV-Total-Lumino-GRPs': -105.82995210258204,\n",
       " 'TV-Total-Spon-GRPs': -944.7840943605263,\n",
       " 'TV-Conv-Lumino-GRPs': -218.85141257738667,\n",
       " 'TV-Spec-Lumino-GRPs': -43.08213722024014,\n",
       " 'TV-Spec-Spon-GRPs': -941.4777859370885,\n",
       " 'OOH-Lumino': -831.7701501400778,\n",
       " 'Radio-Lumino': -3410.218376801471,\n",
       " 'Radio-QC': -263.19484782213254,\n",
       " 'eDirects-SLGI': 5994.767085471673,\n",
       " 'eDirects-GB': 638.4900087985684}"
      ]
     },
     "execution_count": 418,
     "metadata": {},
     "output_type": "execute_result"
    }
   ],
   "source": [
    "nonbrand_contr = contr[nonbrand_filter]\n",
    "nonbrand_dict = {}\n",
    "for var, cont in zip(features[nonbrand_filter], nonbrand_contr):\n",
    "    nonbrand_dict.update({var : cont})\n",
    "nonbrand_dict"
   ]
  },
  {
   "cell_type": "markdown",
   "id": "893fd20b",
   "metadata": {},
   "source": [
    "## Lasso Regression"
   ]
  },
  {
   "cell_type": "code",
   "execution_count": 421,
   "id": "514e803d",
   "metadata": {},
   "outputs": [],
   "source": [
    "param_range_lasso = {'lreg__alpha':[0.0001, 0.001, 0.01, 0.1, 1.0, 10.0, 100.0, 1000.0]}"
   ]
  },
  {
   "cell_type": "code",
   "execution_count": 422,
   "id": "2fc32dff",
   "metadata": {},
   "outputs": [],
   "source": [
    "pipe_lr = Pipeline([\n",
    "    ('sc',MinMaxScaler()),\n",
    "    ('lreg',Lasso())\n",
    "])"
   ]
  },
  {
   "cell_type": "code",
   "execution_count": 426,
   "id": "25201ce3",
   "metadata": {},
   "outputs": [],
   "source": [
    "LR = GridSearchCV(estimator = pipe_lr,\n",
    "                  param_grid = param_range_lasso, \n",
    "                  scoring = 'neg_mean_squared_error',\n",
    "                  n_jobs = -1,\n",
    "                  cv = 10)"
   ]
  },
  {
   "cell_type": "code",
   "execution_count": 428,
   "id": "538f393b",
   "metadata": {},
   "outputs": [
    {
     "data": {
      "text/plain": [
       "GridSearchCV(cv=10,\n",
       "             estimator=Pipeline(steps=[('sc', MinMaxScaler()),\n",
       "                                       ('lreg', Lasso())]),\n",
       "             n_jobs=-1,\n",
       "             param_grid={'lreg__alpha': [0.0001, 0.001, 0.01, 0.1, 1.0, 10.0,\n",
       "                                         100.0, 1000.0]},\n",
       "             scoring='neg_mean_squared_error')"
      ]
     },
     "execution_count": 428,
     "metadata": {},
     "output_type": "execute_result"
    }
   ],
   "source": [
    "LR.fit(X,y)"
   ]
  },
  {
   "cell_type": "code",
   "execution_count": 430,
   "id": "96d993bd",
   "metadata": {},
   "outputs": [
    {
     "data": {
      "text/plain": [
       "{'mean_fit_time': array([0.04, 0.06, 0.06, 0.03, 0.02, 0.01, 0.00, 0.00]),\n",
       " 'std_fit_time': array([0.01, 0.02, 0.02, 0.01, 0.01, 0.00, 0.00, 0.00]),\n",
       " 'mean_score_time': array([0.00, 0.00, 0.00, 0.00, 0.00, 0.00, 0.00, 0.00]),\n",
       " 'std_score_time': array([0.00, 0.00, 0.00, 0.00, 0.00, 0.00, 0.00, 0.00]),\n",
       " 'param_lreg__alpha': masked_array(data=[0.0001, 0.001, 0.01, 0.1, 1.0, 10.0, 100.0, 1000.0],\n",
       "              mask=[False, False, False, False, False, False, False, False],\n",
       "        fill_value='?',\n",
       "             dtype=object),\n",
       " 'params': [{'lreg__alpha': 0.0001},\n",
       "  {'lreg__alpha': 0.001},\n",
       "  {'lreg__alpha': 0.01},\n",
       "  {'lreg__alpha': 0.1},\n",
       "  {'lreg__alpha': 1.0},\n",
       "  {'lreg__alpha': 10.0},\n",
       "  {'lreg__alpha': 100.0},\n",
       "  {'lreg__alpha': 1000.0}],\n",
       " 'split0_test_score': array([-3604967.13, -3600042.31, -3572507.01, -3417906.52, -2663655.86,\n",
       "        -1875914.04, -1592892.44, -1657611.76]),\n",
       " 'split1_test_score': array([-782805.88, -782456.85, -774396.58, -728589.26, -527590.91,\n",
       "        -585687.61, -254146.91, -221614.21]),\n",
       " 'split2_test_score': array([-381711.44, -381599.79, -380567.61, -368124.14, -222826.59,\n",
       "        -210364.97, -272514.48, -138564.48]),\n",
       " 'split3_test_score': array([-1124429.28, -1124324.84, -1120422.27, -1111631.62, -997479.61,\n",
       "        -1478136.03, -1057188.32, -2281209.37]),\n",
       " 'split4_test_score': array([-1806635.16, -1806882.39, -1808456.89, -1803554.35, -1801284.60,\n",
       "        -2547593.78, -4894957.53, -6307064.97]),\n",
       " 'split5_test_score': array([-2204710.81, -2204450.07, -2201579.03, -2192344.41, -2289756.50,\n",
       "        -4150151.09, -6251197.36, -5378939.46]),\n",
       " 'split6_test_score': array([-516476.63, -516480.56, -516308.55, -511837.91, -454076.69,\n",
       "        -1077048.87, -3597787.04, -3833362.24]),\n",
       " 'split7_test_score': array([-1821546.20, -1819797.81, -1794067.58, -1617244.87, -1533655.38,\n",
       "        -2377858.91, -2621718.26, -3184682.35]),\n",
       " 'split8_test_score': array([-3527261.67, -3542272.68, -3676402.60, -8993676.20, -5771302.28,\n",
       "        -1105137.22, -1416015.66, -3211865.90]),\n",
       " 'split9_test_score': array([-4074141.42, -4072313.59, -4052720.58, -3870871.52, -2054436.95,\n",
       "        -498069.44, -2239229.59, -3467212.25]),\n",
       " 'mean_test_score': array([-1984468.56, -1985062.09, -1989742.87, -2461578.08, -1831606.54,\n",
       "        -1590596.20, -2419764.76, -2968212.70]),\n",
       " 'std_test_score': array([1280122.08, 1281086.54, 1292869.17, 2445342.52, 1531167.65,\n",
       "        1130880.07, 1873926.32, 1892184.16]),\n",
       " 'rank_test_score': array([3, 4, 5, 7, 2, 1, 6, 8])}"
      ]
     },
     "execution_count": 430,
     "metadata": {},
     "output_type": "execute_result"
    }
   ],
   "source": [
    "LR.cv_results_"
   ]
  },
  {
   "cell_type": "code",
   "execution_count": 432,
   "id": "b5757ee4",
   "metadata": {},
   "outputs": [
    {
     "data": {
      "text/plain": [
       "{'lreg__alpha': 10.0}"
      ]
     },
     "execution_count": 432,
     "metadata": {},
     "output_type": "execute_result"
    }
   ],
   "source": [
    "LR.best_params_"
   ]
  },
  {
   "cell_type": "code",
   "execution_count": 439,
   "id": "064f5af4",
   "metadata": {},
   "outputs": [
    {
     "data": {
      "text/plain": [
       "array([43.34, 1369.80, -939.11, -16.18, 0.00, 0.00, -1901.10, -159.27,\n",
       "       -0.00, 36.44, 1674.91, -0.00, -0.00, -0.00, -803.46, -2598.21,\n",
       "       -341.77, -469.71, -546.10, 367.79, 97.90, -0.00, -0.00, 0.00,\n",
       "       -0.00, 0.00, -0.00, -240.15, -60.63, -406.44, -584.19, 0.00, 0.00,\n",
       "       0.00, -0.00, 0.00, 0.00, -0.00, 0.00, -0.00, 0.00, 0.00, -0.00,\n",
       "       562.15, 0.00, -0.00, 0.00, -0.00, -0.00, 848.67, 1469.90, -1090.83,\n",
       "       -0.00, 330.35, 0.00])"
      ]
     },
     "execution_count": 439,
     "metadata": {},
     "output_type": "execute_result"
    }
   ],
   "source": [
    "lcoef = LR.best_estimator_['lreg'].coef_\n",
    "lcoef"
   ]
  },
  {
   "cell_type": "code",
   "execution_count": 436,
   "id": "9480b960",
   "metadata": {},
   "outputs": [
    {
     "data": {
      "image/png": "[encoded data removed]",
      "text/plain": [
       "<Figure size 1080x360 with 1 Axes>"
      ]
     },
     "metadata": {
      "needs_background": "light"
     },
     "output_type": "display_data"
    },
    {
     "name": "stdout",
     "output_type": "stream",
     "text": [
      "1261.188406594431\n"
     ]
    }
   ],
   "source": [
    "tp = LR.best_estimator_.predict(X)\n",
    "ty = y\n",
    "\n",
    "fig = plt.figure(figsize=(15,5))\n",
    "plt.plot(np.arange(X.shape[0]),ty,'b-',label='Actual')\n",
    "plt.plot(np.arange(X.shape[0]),tp,'r-',label='Predicted')\n",
    "plt.legend()\n",
    "plt.title('Training Fit')\n",
    "plt.show()\n",
    "print (np.sqrt(-LR.best_score_))"
   ]
  },
  {
   "cell_type": "code",
   "execution_count": 437,
   "id": "d224d743",
   "metadata": {},
   "outputs": [
    {
     "name": "stdout",
     "output_type": "stream",
     "text": [
      "1773.5202086395468\n"
     ]
    },
    {
     "data": {
      "image/png": "[encoded data removed]",
      "text/plain": [
       "<Figure size 1080x360 with 1 Axes>"
      ]
     },
     "metadata": {
      "needs_background": "light"
     },
     "output_type": "display_data"
    }
   ],
   "source": [
    "testp = LR.best_estimator_.predict(X_test)\n",
    "testy = y_test\n",
    "test_rmse = rmse(testy,testp)\n",
    "\n",
    "print (test_rmse)\n",
    "fig = plt.figure(figsize=(15,5))\n",
    "plt.plot(np.arange(X_test.shape[0]),testy,'b-',label='Actual')\n",
    "plt.plot(np.arange(X_test.shape[0]),testp,'r-',label='Predicted')\n",
    "plt.legend()\n",
    "plt.title('Test Fit')\n",
    "plt.show()"
   ]
  },
  {
   "cell_type": "markdown",
   "id": "5826b0ea",
   "metadata": {},
   "source": [
    "### Getting Contributions"
   ]
  },
  {
   "cell_type": "code",
   "execution_count": 438,
   "id": "7eb866d5",
   "metadata": {},
   "outputs": [
    {
     "data": {
      "text/plain": [
       "array([[0.32, 0.83, 0.01, ..., 0.00, 0.00, 0.00],\n",
       "       [0.30, 0.69, 0.01, ..., 0.00, 0.00, 0.00],\n",
       "       [0.20, 0.50, 0.01, ..., 0.00, 0.00, 0.00],\n",
       "       ...,\n",
       "       [0.13, 0.00, 0.29, ..., 0.00, 0.00, 0.00],\n",
       "       [0.45, 0.00, 0.26, ..., 0.00, 0.00, 0.00],\n",
       "       [0.41, 0.00, 0.16, ..., 0.00, 0.00, 0.00]])"
      ]
     },
     "execution_count": 438,
     "metadata": {},
     "output_type": "execute_result"
    }
   ],
   "source": [
    "sc = MinMaxScaler()\n",
    "X_scaled = sc.fit(X).transform(X)\n",
    "X_scaled"
   ]
  },
  {
   "cell_type": "code",
   "execution_count": 440,
   "id": "51cf3d5d",
   "metadata": {},
   "outputs": [
    {
     "data": {
      "text/plain": [
       "array([2252.05, 47006.44, -22100.46, -287.33, 0.00, 0.00, -53786.52,\n",
       "       -2220.52, 0.00, 1610.42, 78853.93, 0.00, 0.00, 0.00, -19186.98,\n",
       "       -66112.38, -7599.43, -3187.25, -11109.83, 7513.18, 1535.98, 0.00,\n",
       "       0.00, 0.00, 0.00, 0.00, 0.00, -5013.25, -832.84, -3595.29,\n",
       "       -13015.24, 0.00, 0.00, 0.00, 0.00, 0.00, 0.00, 0.00, 0.00, 0.00,\n",
       "       0.00, 0.00, 0.00, 11461.94, 0.00, 0.00, 0.00, 0.00, 0.00, 6085.99,\n",
       "       10836.14, -4358.90, 0.00, 4432.54, 0.00])"
      ]
     },
     "execution_count": 440,
     "metadata": {},
     "output_type": "execute_result"
    }
   ],
   "source": [
    "lcontr = np.sum(lcoef * X_scaled ,axis = 0)\n",
    "lcontr"
   ]
  },
  {
   "cell_type": "code",
   "execution_count": 441,
   "id": "c7a936b7",
   "metadata": {},
   "outputs": [
    {
     "data": {
      "text/plain": [
       "{'Search-National Brand': 2252.0467609120515,\n",
       " 'Search-GO Brand': -22100.46467723604,\n",
       " 'Search-Lumino Brand': 0.0,\n",
       " 'Search-SLGI Brand': -53786.51647256679,\n",
       " 'Search-Other Brand': 0.0,\n",
       " 'Social-Brand': 78853.92538310675,\n",
       " 'Display-Brand': -66112.37568433145,\n",
       " 'Native-Brand': 1535.9822314095366,\n",
       " 'Video-Brand': 0.0,\n",
       " 'DigitalAudio-Brand': -3595.285115769001,\n",
       " 'TV-Total-Brand-Imps': 0.0,\n",
       " 'TV-Conv-Brand-Imps': 0.0,\n",
       " 'TV-Spec-Brand-Imps': 0.0,\n",
       " 'TV-Total-Brand-GRPs': 0.0,\n",
       " 'TV-Conv-Brand-GRPs': 11461.935264535961,\n",
       " 'TV-Spec-Brand-GRPs': 0.0,\n",
       " 'OOH-Brand': 6085.992580595138,\n",
       " 'Radio-Brand': 10836.14191075174}"
      ]
     },
     "execution_count": 441,
     "metadata": {},
     "output_type": "execute_result"
    }
   ],
   "source": [
    "brand_contr = lcontr[brand_filter]\n",
    "brand_dict = {}\n",
    "for var, cont in zip(features[brand_filter], brand_contr):\n",
    "    brand_dict.update({var : cont})\n",
    "brand_dict"
   ]
  },
  {
   "cell_type": "code",
   "execution_count": 442,
   "id": "2b230bf4",
   "metadata": {},
   "outputs": [
    {
     "data": {
      "text/plain": [
       "{'Search-National Generic': 47006.44087123153,\n",
       " 'Search-GO Generic': -287.33409258549307,\n",
       " 'Search-Lumino Generic': 0.0,\n",
       " 'Search-SLGI Generic': -2220.5232366724554,\n",
       " 'Search-Other Generic': 1610.4154663739964,\n",
       " 'Social-GO': 0.0,\n",
       " 'Social-Lumino': 0.0,\n",
       " 'Social-Sponsorship': 0.0,\n",
       " 'Social-Other': -19186.97761940262,\n",
       " 'Display-Lumino': -7599.427542756579,\n",
       " 'Display-GO': -3187.2476210049613,\n",
       " 'Display-Sponsorship': -11109.828910663107,\n",
       " 'Display-Other': 7513.17770689956,\n",
       " 'Native-Lumino': 0.0,\n",
       " 'Native-GO': 0.0,\n",
       " 'Native-Sponsorship': 0.0,\n",
       " 'Native-Other': 0.0,\n",
       " 'Video-Lumino': 0.0,\n",
       " 'Video-Sponsorship': -5013.250803707856,\n",
       " 'Video-Other': -832.8385105978007,\n",
       " 'DigitalAudio-Lumino': -13015.24156573751,\n",
       " 'DigitalAudio-Other': 0.0,\n",
       " 'TV-Total-Lumino-Imps': 0.0,\n",
       " 'TV-Total-Spon-Imps': 0.0,\n",
       " 'TV-Conv-Lumino-Imps': 0.0,\n",
       " 'TV-Spec-Lumino-Imps': 0.0,\n",
       " 'TV-Spec-Spon-Imps': 0.0,\n",
       " 'TV-Total-Lumino-GRPs': 0.0,\n",
       " 'TV-Total-Spon-GRPs': 0.0,\n",
       " 'TV-Conv-Lumino-GRPs': 0.0,\n",
       " 'TV-Spec-Lumino-GRPs': 0.0,\n",
       " 'TV-Spec-Spon-GRPs': 0.0,\n",
       " 'OOH-Lumino': 0.0,\n",
       " 'Radio-Lumino': -4358.903820904709,\n",
       " 'Radio-QC': 0.0,\n",
       " 'eDirects-SLGI': 4432.541349632402,\n",
       " 'eDirects-GB': 0.0}"
      ]
     },
     "execution_count": 442,
     "metadata": {},
     "output_type": "execute_result"
    }
   ],
   "source": [
    "nonbrand_contr = lcontr[nonbrand_filter]\n",
    "nonbrand_dict = {}\n",
    "for var, cont in zip(features[nonbrand_filter], nonbrand_contr):\n",
    "    nonbrand_dict.update({var : cont})\n",
    "nonbrand_dict"
   ]
  },
  {
   "cell_type": "code",
   "execution_count": 443,
   "id": "788b4575",
   "metadata": {},
   "outputs": [
    {
     "data": {
      "text/plain": [
       "{'Search-National Brand': 2252.0467609120515,\n",
       " 'Search-National Generic': 47006.44087123153,\n",
       " 'Search-GO Brand': -22100.46467723604,\n",
       " 'Search-GO Generic': -287.33409258549307,\n",
       " 'Search-Lumino Brand': 0.0,\n",
       " 'Search-Lumino Generic': 0.0,\n",
       " 'Search-SLGI Brand': -53786.51647256679,\n",
       " 'Search-SLGI Generic': -2220.5232366724554,\n",
       " 'Search-Other Brand': 0.0,\n",
       " 'Search-Other Generic': 1610.4154663739964,\n",
       " 'Social-Brand': 78853.92538310675,\n",
       " 'Social-GO': 0.0,\n",
       " 'Social-Lumino': 0.0,\n",
       " 'Social-Sponsorship': 0.0,\n",
       " 'Social-Other': -19186.97761940262,\n",
       " 'Display-Brand': -66112.37568433145,\n",
       " 'Display-Lumino': -7599.427542756579,\n",
       " 'Display-GO': -3187.2476210049613,\n",
       " 'Display-Sponsorship': -11109.828910663107,\n",
       " 'Display-Other': 7513.17770689956,\n",
       " 'Native-Brand': 1535.9822314095366,\n",
       " 'Native-Lumino': 0.0,\n",
       " 'Native-GO': 0.0,\n",
       " 'Native-Sponsorship': 0.0,\n",
       " 'Native-Other': 0.0,\n",
       " 'Video-Brand': 0.0,\n",
       " 'Video-Lumino': 0.0,\n",
       " 'Video-Sponsorship': -5013.250803707856,\n",
       " 'Video-Other': -832.8385105978007,\n",
       " 'DigitalAudio-Brand': -3595.285115769001,\n",
       " 'DigitalAudio-Lumino': -13015.24156573751,\n",
       " 'DigitalAudio-Other': 0.0,\n",
       " 'TV-Total-Brand-Imps': 0.0,\n",
       " 'TV-Total-Lumino-Imps': 0.0,\n",
       " 'TV-Total-Spon-Imps': 0.0,\n",
       " 'TV-Conv-Brand-Imps': 0.0,\n",
       " 'TV-Conv-Lumino-Imps': 0.0,\n",
       " 'TV-Spec-Brand-Imps': 0.0,\n",
       " 'TV-Spec-Lumino-Imps': 0.0,\n",
       " 'TV-Spec-Spon-Imps': 0.0,\n",
       " 'TV-Total-Brand-GRPs': 0.0,\n",
       " 'TV-Total-Lumino-GRPs': 0.0,\n",
       " 'TV-Total-Spon-GRPs': 0.0,\n",
       " 'TV-Conv-Brand-GRPs': 11461.935264535961,\n",
       " 'TV-Conv-Lumino-GRPs': 0.0,\n",
       " 'TV-Spec-Brand-GRPs': 0.0,\n",
       " 'TV-Spec-Lumino-GRPs': 0.0,\n",
       " 'TV-Spec-Spon-GRPs': 0.0,\n",
       " 'OOH-Lumino': 0.0,\n",
       " 'OOH-Brand': 6085.992580595138,\n",
       " 'Radio-Brand': 10836.14191075174,\n",
       " 'Radio-Lumino': -4358.903820904709,\n",
       " 'Radio-QC': 0.0,\n",
       " 'eDirects-SLGI': 4432.541349632402,\n",
       " 'eDirects-GB': 0.0}"
      ]
     },
     "execution_count": 443,
     "metadata": {},
     "output_type": "execute_result"
    }
   ],
   "source": [
    "total_dict = {}\n",
    "for var, cont in zip(features, lcontr):\n",
    "    total_dict.update({var : cont})\n",
    "total_dict"
   ]
  },
  {
   "cell_type": "code",
   "execution_count": 447,
   "id": "46557fbc",
   "metadata": {},
   "outputs": [
    {
     "data": {
      "text/plain": [
       "(141, 55)"
      ]
     },
     "execution_count": 447,
     "metadata": {},
     "output_type": "execute_result"
    }
   ],
   "source": [
    "wow_contr = lcoef * X_scaled \n",
    "wow_contr.shape"
   ]
  },
  {
   "cell_type": "code",
   "execution_count": 454,
   "id": "a19a0b74",
   "metadata": {
    "scrolled": true
   },
   "outputs": [],
   "source": [
    "contr_table = pd.DataFrame(wow_contr,columns = features).set_index(df[start_date:end_date].index)"
   ]
  },
  {
   "cell_type": "markdown",
   "id": "121d71b3",
   "metadata": {},
   "source": [
    "## Putting it all Together"
   ]
  },
  {
   "cell_type": "code",
   "execution_count": 49,
   "id": "cfc0066b",
   "metadata": {},
   "outputs": [],
   "source": [
    "## Splitting into train and test \n",
    "\n",
    "def rmse(a,p):\n",
    "    return np.sqrt(mse(a,p))\n",
    "\n",
    "def build_model(yvar,start_date,end_date):\n",
    "    xvar = features[~features.str.contains(yvar)]\n",
    "    media = df.loc[:,xvar]\n",
    "    end_formatted = datetime.datetime.strptime(end_date, \"%Y-%m-%d\")\n",
    "    X = np.array(media.loc[start_date:end_date])\n",
    "    y = np.array(df.loc[start_date:end_date][yvar])\n",
    "\n",
    "    X_test = np.array(media.loc[end_formatted+datetime.timedelta(days=7):max(media.index)])\n",
    "    y_test = np.array(df.loc[end_formatted+datetime.timedelta(days=7):max(df.index)][yvar])\n",
    "    \n",
    "\n",
    "    ## Model Build and Fit\n",
    "    param_range_lasso = {'lreg__alpha':[0.0001, 0.001, 0.01, 0.1, 1.0, 10.0, 100.0, 1000.0]}\n",
    "\n",
    "    pipe_lr = Pipeline([\n",
    "        ('sc',MinMaxScaler()),\n",
    "        ('lreg',Lasso())\n",
    "        ])\n",
    "\n",
    "    LR = GridSearchCV(estimator = pipe_lr,\n",
    "                  param_grid = param_range_lasso, \n",
    "                  scoring = 'neg_mean_squared_error',\n",
    "                  n_jobs = -1,\n",
    "                  cv = 10)\n",
    "\n",
    "    LR.fit(X,y)\n",
    "\n",
    "    ## Model Validation \n",
    "\n",
    "\n",
    "    #### Training validation\n",
    "    trainp = LR.best_estimator_.predict(X)\n",
    "    trainy = y\n",
    "    train_rmse = np.sqrt(-LR.best_score_)\n",
    "\n",
    "    #### Testing validation \n",
    "    testp = LR.best_estimator_.predict(X_test)\n",
    "    testy = y_test\n",
    "    test_rmse = rmse(testy,testp)\n",
    "\n",
    "    ## Getting Contributions\n",
    "\n",
    "    sc = MinMaxScaler()\n",
    "    X_scaled = sc.fit(X).transform(X)\n",
    "    lcoef = LR.best_estimator_['lreg'].coef_\n",
    "    wow_contr = lcoef * X_scaled \n",
    "    media_contr = pd.DataFrame(wow_contr,columns = xvar).set_index(df[start_date:end_date].index)\n",
    "    intercept = LR.best_estimator_['lreg'].intercept_\n",
    "    base_contr = pd.DataFrame([intercept]*X.shape[0], columns = [\"Base\"],index =df[start_date:end_date].index)\n",
    "    contr_table = media_contr.join(base_contr)\n",
    "    \n",
    "    return train_rmse, trainp, trainy, test_rmse, testp, testy, contr_table"
   ]
  },
  {
   "cell_type": "code",
   "execution_count": 50,
   "id": "7b8d9ed1",
   "metadata": {},
   "outputs": [],
   "source": [
    "yvar = 'FAA Lead Form Impressions'\n",
    "start_date = '2018-10-22'\n",
    "end_date = '2021-06-28'"
   ]
  },
  {
   "cell_type": "code",
   "execution_count": 51,
   "id": "7e790759",
   "metadata": {},
   "outputs": [],
   "source": [
    "df = pd.read_csv('Media variables 2021-11-18.csv',index_col =0)\n",
    "df.index = pd.to_datetime(df.index)\n",
    "features = df.columns"
   ]
  },
  {
   "cell_type": "code",
   "execution_count": 52,
   "id": "d7041639",
   "metadata": {},
   "outputs": [],
   "source": [
    "train_rmse, trainp, trainy, test_rmse, testp, testy, contr_table = build_model(yvar,start_date,end_date)"
   ]
  },
  {
   "cell_type": "code",
   "execution_count": 53,
   "id": "428c4a56",
   "metadata": {},
   "outputs": [
    {
     "data": {
      "text/plain": [
       "1261.188406594431"
      ]
     },
     "execution_count": 53,
     "metadata": {},
     "output_type": "execute_result"
    }
   ],
   "source": [
    "train_rmse"
   ]
  },
  {
   "cell_type": "code",
   "execution_count": 54,
   "id": "294eb48f",
   "metadata": {},
   "outputs": [
    {
     "data": {
      "text/html": [
       "<div>\n",
       "<style scoped>\n",
       "    .dataframe tbody tr th:only-of-type {\n",
       "        vertical-align: middle;\n",
       "    }\n",
       "\n",
       "    .dataframe tbody tr th {\n",
       "        vertical-align: top;\n",
       "    }\n",
       "\n",
       "    .dataframe thead th {\n",
       "        text-align: right;\n",
       "    }\n",
       "</style>\n",
       "<table border=\"1\" class=\"dataframe\">\n",
       "  <thead>\n",
       "    <tr style=\"text-align: right;\">\n",
       "      <th></th>\n",
       "      <th>Search-National Brand</th>\n",
       "      <th>Search-National Generic</th>\n",
       "      <th>Search-GO Brand</th>\n",
       "      <th>Search-GO Generic</th>\n",
       "      <th>Search-Lumino Brand</th>\n",
       "      <th>Search-Lumino Generic</th>\n",
       "      <th>Search-SLGI Brand</th>\n",
       "      <th>Search-SLGI Generic</th>\n",
       "      <th>Search-Other Brand</th>\n",
       "      <th>Search-Other Generic</th>\n",
       "      <th>...</th>\n",
       "      <th>TV-Spec-Lumino-GRPs</th>\n",
       "      <th>TV-Spec-Spon-GRPs</th>\n",
       "      <th>OOH-Lumino</th>\n",
       "      <th>OOH-Brand</th>\n",
       "      <th>Radio-Brand</th>\n",
       "      <th>Radio-Lumino</th>\n",
       "      <th>Radio-QC</th>\n",
       "      <th>eDirects-SLGI</th>\n",
       "      <th>eDirects-GB</th>\n",
       "      <th>Base</th>\n",
       "    </tr>\n",
       "    <tr>\n",
       "      <th>Date</th>\n",
       "      <th></th>\n",
       "      <th></th>\n",
       "      <th></th>\n",
       "      <th></th>\n",
       "      <th></th>\n",
       "      <th></th>\n",
       "      <th></th>\n",
       "      <th></th>\n",
       "      <th></th>\n",
       "      <th></th>\n",
       "      <th></th>\n",
       "      <th></th>\n",
       "      <th></th>\n",
       "      <th></th>\n",
       "      <th></th>\n",
       "      <th></th>\n",
       "      <th></th>\n",
       "      <th></th>\n",
       "      <th></th>\n",
       "      <th></th>\n",
       "      <th></th>\n",
       "    </tr>\n",
       "  </thead>\n",
       "  <tbody>\n",
       "    <tr>\n",
       "      <th>2018-10-22</th>\n",
       "      <td>13.798886</td>\n",
       "      <td>1143.271874</td>\n",
       "      <td>-6.841808</td>\n",
       "      <td>-0.259870</td>\n",
       "      <td>0.0</td>\n",
       "      <td>0.0</td>\n",
       "      <td>-0.000000</td>\n",
       "      <td>-0.000000</td>\n",
       "      <td>-0.0</td>\n",
       "      <td>10.274691</td>\n",
       "      <td>...</td>\n",
       "      <td>0.0</td>\n",
       "      <td>-0.0</td>\n",
       "      <td>-0.0</td>\n",
       "      <td>0.000000</td>\n",
       "      <td>0.0</td>\n",
       "      <td>-0.000000</td>\n",
       "      <td>-0.0</td>\n",
       "      <td>0.000000</td>\n",
       "      <td>0.0</td>\n",
       "      <td>3470.039831</td>\n",
       "    </tr>\n",
       "    <tr>\n",
       "      <th>2018-10-29</th>\n",
       "      <td>13.054726</td>\n",
       "      <td>951.953901</td>\n",
       "      <td>-6.129120</td>\n",
       "      <td>-0.285467</td>\n",
       "      <td>0.0</td>\n",
       "      <td>0.0</td>\n",
       "      <td>-0.000000</td>\n",
       "      <td>-0.000000</td>\n",
       "      <td>-0.0</td>\n",
       "      <td>12.420393</td>\n",
       "      <td>...</td>\n",
       "      <td>0.0</td>\n",
       "      <td>-0.0</td>\n",
       "      <td>-0.0</td>\n",
       "      <td>44.775298</td>\n",
       "      <td>0.0</td>\n",
       "      <td>-1090.830407</td>\n",
       "      <td>-0.0</td>\n",
       "      <td>0.000000</td>\n",
       "      <td>0.0</td>\n",
       "      <td>3470.039831</td>\n",
       "    </tr>\n",
       "    <tr>\n",
       "      <th>2018-11-05</th>\n",
       "      <td>8.459393</td>\n",
       "      <td>684.266015</td>\n",
       "      <td>-8.908604</td>\n",
       "      <td>-0.189733</td>\n",
       "      <td>0.0</td>\n",
       "      <td>0.0</td>\n",
       "      <td>-0.000000</td>\n",
       "      <td>-0.000000</td>\n",
       "      <td>-0.0</td>\n",
       "      <td>13.139810</td>\n",
       "      <td>...</td>\n",
       "      <td>0.0</td>\n",
       "      <td>-0.0</td>\n",
       "      <td>-0.0</td>\n",
       "      <td>53.006171</td>\n",
       "      <td>0.0</td>\n",
       "      <td>-1090.511343</td>\n",
       "      <td>-0.0</td>\n",
       "      <td>0.000000</td>\n",
       "      <td>0.0</td>\n",
       "      <td>3470.039831</td>\n",
       "    </tr>\n",
       "    <tr>\n",
       "      <th>2018-11-12</th>\n",
       "      <td>7.485661</td>\n",
       "      <td>551.423330</td>\n",
       "      <td>-6.699270</td>\n",
       "      <td>-0.036876</td>\n",
       "      <td>0.0</td>\n",
       "      <td>0.0</td>\n",
       "      <td>-0.000000</td>\n",
       "      <td>-0.000000</td>\n",
       "      <td>-0.0</td>\n",
       "      <td>14.488019</td>\n",
       "      <td>...</td>\n",
       "      <td>0.0</td>\n",
       "      <td>-0.0</td>\n",
       "      <td>-0.0</td>\n",
       "      <td>53.006171</td>\n",
       "      <td>0.0</td>\n",
       "      <td>-1089.750499</td>\n",
       "      <td>-0.0</td>\n",
       "      <td>0.000000</td>\n",
       "      <td>0.0</td>\n",
       "      <td>3470.039831</td>\n",
       "    </tr>\n",
       "    <tr>\n",
       "      <th>2018-11-19</th>\n",
       "      <td>10.480584</td>\n",
       "      <td>807.717907</td>\n",
       "      <td>-12.472046</td>\n",
       "      <td>-0.161533</td>\n",
       "      <td>0.0</td>\n",
       "      <td>0.0</td>\n",
       "      <td>-0.000000</td>\n",
       "      <td>-0.000000</td>\n",
       "      <td>-0.0</td>\n",
       "      <td>14.059994</td>\n",
       "      <td>...</td>\n",
       "      <td>0.0</td>\n",
       "      <td>-0.0</td>\n",
       "      <td>-0.0</td>\n",
       "      <td>53.006171</td>\n",
       "      <td>0.0</td>\n",
       "      <td>-1087.811572</td>\n",
       "      <td>-0.0</td>\n",
       "      <td>0.000000</td>\n",
       "      <td>0.0</td>\n",
       "      <td>3470.039831</td>\n",
       "    </tr>\n",
       "    <tr>\n",
       "      <th>...</th>\n",
       "      <td>...</td>\n",
       "      <td>...</td>\n",
       "      <td>...</td>\n",
       "      <td>...</td>\n",
       "      <td>...</td>\n",
       "      <td>...</td>\n",
       "      <td>...</td>\n",
       "      <td>...</td>\n",
       "      <td>...</td>\n",
       "      <td>...</td>\n",
       "      <td>...</td>\n",
       "      <td>...</td>\n",
       "      <td>...</td>\n",
       "      <td>...</td>\n",
       "      <td>...</td>\n",
       "      <td>...</td>\n",
       "      <td>...</td>\n",
       "      <td>...</td>\n",
       "      <td>...</td>\n",
       "      <td>...</td>\n",
       "      <td>...</td>\n",
       "    </tr>\n",
       "    <tr>\n",
       "      <th>2021-05-31</th>\n",
       "      <td>25.418039</td>\n",
       "      <td>30.165750</td>\n",
       "      <td>-154.011945</td>\n",
       "      <td>-0.169631</td>\n",
       "      <td>0.0</td>\n",
       "      <td>0.0</td>\n",
       "      <td>-1235.584011</td>\n",
       "      <td>-33.941238</td>\n",
       "      <td>-0.0</td>\n",
       "      <td>13.020604</td>\n",
       "      <td>...</td>\n",
       "      <td>0.0</td>\n",
       "      <td>-0.0</td>\n",
       "      <td>-0.0</td>\n",
       "      <td>0.000000</td>\n",
       "      <td>0.0</td>\n",
       "      <td>-0.000000</td>\n",
       "      <td>-0.0</td>\n",
       "      <td>25.951834</td>\n",
       "      <td>0.0</td>\n",
       "      <td>3470.039831</td>\n",
       "    </tr>\n",
       "    <tr>\n",
       "      <th>2021-06-07</th>\n",
       "      <td>21.371161</td>\n",
       "      <td>0.000000</td>\n",
       "      <td>-231.196090</td>\n",
       "      <td>-0.555459</td>\n",
       "      <td>0.0</td>\n",
       "      <td>0.0</td>\n",
       "      <td>-491.543780</td>\n",
       "      <td>-11.794320</td>\n",
       "      <td>-0.0</td>\n",
       "      <td>11.748380</td>\n",
       "      <td>...</td>\n",
       "      <td>0.0</td>\n",
       "      <td>-0.0</td>\n",
       "      <td>-0.0</td>\n",
       "      <td>0.000000</td>\n",
       "      <td>0.0</td>\n",
       "      <td>-0.000000</td>\n",
       "      <td>-0.0</td>\n",
       "      <td>0.000000</td>\n",
       "      <td>0.0</td>\n",
       "      <td>3470.039831</td>\n",
       "    </tr>\n",
       "    <tr>\n",
       "      <th>2021-06-14</th>\n",
       "      <td>5.453680</td>\n",
       "      <td>0.000000</td>\n",
       "      <td>-269.467452</td>\n",
       "      <td>-0.611714</td>\n",
       "      <td>0.0</td>\n",
       "      <td>0.0</td>\n",
       "      <td>-492.411465</td>\n",
       "      <td>-14.692650</td>\n",
       "      <td>-0.0</td>\n",
       "      <td>10.062770</td>\n",
       "      <td>...</td>\n",
       "      <td>0.0</td>\n",
       "      <td>-0.0</td>\n",
       "      <td>-0.0</td>\n",
       "      <td>0.000000</td>\n",
       "      <td>0.0</td>\n",
       "      <td>-0.000000</td>\n",
       "      <td>-0.0</td>\n",
       "      <td>0.000000</td>\n",
       "      <td>0.0</td>\n",
       "      <td>3470.039831</td>\n",
       "    </tr>\n",
       "    <tr>\n",
       "      <th>2021-06-21</th>\n",
       "      <td>19.323296</td>\n",
       "      <td>0.000000</td>\n",
       "      <td>-246.447620</td>\n",
       "      <td>-0.558641</td>\n",
       "      <td>0.0</td>\n",
       "      <td>0.0</td>\n",
       "      <td>-513.669757</td>\n",
       "      <td>-14.459394</td>\n",
       "      <td>-0.0</td>\n",
       "      <td>10.249595</td>\n",
       "      <td>...</td>\n",
       "      <td>0.0</td>\n",
       "      <td>-0.0</td>\n",
       "      <td>-0.0</td>\n",
       "      <td>0.000000</td>\n",
       "      <td>0.0</td>\n",
       "      <td>-0.000000</td>\n",
       "      <td>-0.0</td>\n",
       "      <td>0.000000</td>\n",
       "      <td>0.0</td>\n",
       "      <td>3470.039831</td>\n",
       "    </tr>\n",
       "    <tr>\n",
       "      <th>2021-06-28</th>\n",
       "      <td>17.908702</td>\n",
       "      <td>0.000000</td>\n",
       "      <td>-147.526481</td>\n",
       "      <td>-0.248879</td>\n",
       "      <td>0.0</td>\n",
       "      <td>0.0</td>\n",
       "      <td>-583.518432</td>\n",
       "      <td>-16.754733</td>\n",
       "      <td>-0.0</td>\n",
       "      <td>7.769281</td>\n",
       "      <td>...</td>\n",
       "      <td>0.0</td>\n",
       "      <td>-0.0</td>\n",
       "      <td>-0.0</td>\n",
       "      <td>0.000000</td>\n",
       "      <td>0.0</td>\n",
       "      <td>-0.000000</td>\n",
       "      <td>-0.0</td>\n",
       "      <td>0.000000</td>\n",
       "      <td>0.0</td>\n",
       "      <td>3470.039831</td>\n",
       "    </tr>\n",
       "  </tbody>\n",
       "</table>\n",
       "<p>141 rows × 56 columns</p>\n",
       "</div>"
      ],
      "text/plain": [
       "            Search-National Brand  Search-National Generic  Search-GO Brand  \\\n",
       "Date                                                                          \n",
       "2018-10-22              13.798886              1143.271874        -6.841808   \n",
       "2018-10-29              13.054726               951.953901        -6.129120   \n",
       "2018-11-05               8.459393               684.266015        -8.908604   \n",
       "2018-11-12               7.485661               551.423330        -6.699270   \n",
       "2018-11-19              10.480584               807.717907       -12.472046   \n",
       "...                           ...                      ...              ...   \n",
       "2021-05-31              25.418039                30.165750      -154.011945   \n",
       "2021-06-07              21.371161                 0.000000      -231.196090   \n",
       "2021-06-14               5.453680                 0.000000      -269.467452   \n",
       "2021-06-21              19.323296                 0.000000      -246.447620   \n",
       "2021-06-28              17.908702                 0.000000      -147.526481   \n",
       "\n",
       "            Search-GO Generic  Search-Lumino Brand  Search-Lumino Generic  \\\n",
       "Date                                                                        \n",
       "2018-10-22          -0.259870                  0.0                    0.0   \n",
       "2018-10-29          -0.285467                  0.0                    0.0   \n",
       "2018-11-05          -0.189733                  0.0                    0.0   \n",
       "2018-11-12          -0.036876                  0.0                    0.0   \n",
       "2018-11-19          -0.161533                  0.0                    0.0   \n",
       "...                       ...                  ...                    ...   \n",
       "2021-05-31          -0.169631                  0.0                    0.0   \n",
       "2021-06-07          -0.555459                  0.0                    0.0   \n",
       "2021-06-14          -0.611714                  0.0                    0.0   \n",
       "2021-06-21          -0.558641                  0.0                    0.0   \n",
       "2021-06-28          -0.248879                  0.0                    0.0   \n",
       "\n",
       "            Search-SLGI Brand  Search-SLGI Generic  Search-Other Brand  \\\n",
       "Date                                                                     \n",
       "2018-10-22          -0.000000            -0.000000                -0.0   \n",
       "2018-10-29          -0.000000            -0.000000                -0.0   \n",
       "2018-11-05          -0.000000            -0.000000                -0.0   \n",
       "2018-11-12          -0.000000            -0.000000                -0.0   \n",
       "2018-11-19          -0.000000            -0.000000                -0.0   \n",
       "...                       ...                  ...                 ...   \n",
       "2021-05-31       -1235.584011           -33.941238                -0.0   \n",
       "2021-06-07        -491.543780           -11.794320                -0.0   \n",
       "2021-06-14        -492.411465           -14.692650                -0.0   \n",
       "2021-06-21        -513.669757           -14.459394                -0.0   \n",
       "2021-06-28        -583.518432           -16.754733                -0.0   \n",
       "\n",
       "            Search-Other Generic  ...  TV-Spec-Lumino-GRPs  TV-Spec-Spon-GRPs  \\\n",
       "Date                              ...                                           \n",
       "2018-10-22             10.274691  ...                  0.0               -0.0   \n",
       "2018-10-29             12.420393  ...                  0.0               -0.0   \n",
       "2018-11-05             13.139810  ...                  0.0               -0.0   \n",
       "2018-11-12             14.488019  ...                  0.0               -0.0   \n",
       "2018-11-19             14.059994  ...                  0.0               -0.0   \n",
       "...                          ...  ...                  ...                ...   \n",
       "2021-05-31             13.020604  ...                  0.0               -0.0   \n",
       "2021-06-07             11.748380  ...                  0.0               -0.0   \n",
       "2021-06-14             10.062770  ...                  0.0               -0.0   \n",
       "2021-06-21             10.249595  ...                  0.0               -0.0   \n",
       "2021-06-28              7.769281  ...                  0.0               -0.0   \n",
       "\n",
       "            OOH-Lumino  OOH-Brand  Radio-Brand  Radio-Lumino  Radio-QC  \\\n",
       "Date                                                                     \n",
       "2018-10-22        -0.0   0.000000          0.0     -0.000000      -0.0   \n",
       "2018-10-29        -0.0  44.775298          0.0  -1090.830407      -0.0   \n",
       "2018-11-05        -0.0  53.006171          0.0  -1090.511343      -0.0   \n",
       "2018-11-12        -0.0  53.006171          0.0  -1089.750499      -0.0   \n",
       "2018-11-19        -0.0  53.006171          0.0  -1087.811572      -0.0   \n",
       "...                ...        ...          ...           ...       ...   \n",
       "2021-05-31        -0.0   0.000000          0.0     -0.000000      -0.0   \n",
       "2021-06-07        -0.0   0.000000          0.0     -0.000000      -0.0   \n",
       "2021-06-14        -0.0   0.000000          0.0     -0.000000      -0.0   \n",
       "2021-06-21        -0.0   0.000000          0.0     -0.000000      -0.0   \n",
       "2021-06-28        -0.0   0.000000          0.0     -0.000000      -0.0   \n",
       "\n",
       "            eDirects-SLGI  eDirects-GB         Base  \n",
       "Date                                                 \n",
       "2018-10-22       0.000000          0.0  3470.039831  \n",
       "2018-10-29       0.000000          0.0  3470.039831  \n",
       "2018-11-05       0.000000          0.0  3470.039831  \n",
       "2018-11-12       0.000000          0.0  3470.039831  \n",
       "2018-11-19       0.000000          0.0  3470.039831  \n",
       "...                   ...          ...          ...  \n",
       "2021-05-31      25.951834          0.0  3470.039831  \n",
       "2021-06-07       0.000000          0.0  3470.039831  \n",
       "2021-06-14       0.000000          0.0  3470.039831  \n",
       "2021-06-21       0.000000          0.0  3470.039831  \n",
       "2021-06-28       0.000000          0.0  3470.039831  \n",
       "\n",
       "[141 rows x 56 columns]"
      ]
     },
     "execution_count": 54,
     "metadata": {},
     "output_type": "execute_result"
    }
   ],
   "source": [
    "contr_table"
   ]
  },
  {
   "cell_type": "code",
   "execution_count": 32,
   "id": "17f13c40",
   "metadata": {},
   "outputs": [],
   "source": [
    "xvar = features[~features.str.contains(yvar)]"
   ]
  },
  {
   "cell_type": "code",
   "execution_count": 38,
   "id": "14234ebe",
   "metadata": {},
   "outputs": [
    {
     "data": {
      "text/plain": [
       "Index(['Search-National Brand', 'Search-National Generic', 'Search-GO Brand',\n",
       "       'Search-GO Generic', 'Search-Lumino Brand', 'Search-Lumino Generic',\n",
       "       'Search-SLGI Brand', 'Search-SLGI Generic', 'Search-Other Brand',\n",
       "       'Search-Other Generic', 'Social-Brand', 'Social-GO', 'Social-Lumino',\n",
       "       'Social-Sponsorship', 'Social-Other', 'Display-Brand', 'Display-Lumino',\n",
       "       'Display-GO', 'Display-Sponsorship', 'Display-Other', 'Native-Brand',\n",
       "       'Native-Lumino', 'Native-GO', 'Native-Sponsorship', 'Native-Other',\n",
       "       'Video-Brand', 'Video-Lumino', 'Video-Sponsorship', 'Video-Other',\n",
       "       'DigitalAudio-Brand', 'DigitalAudio-Lumino', 'DigitalAudio-Other',\n",
       "       'TV-Total-Brand-Imps', 'TV-Total-Lumino-Imps', 'TV-Total-Spon-Imps',\n",
       "       'TV-Conv-Brand-Imps', 'TV-Conv-Lumino-Imps', 'TV-Spec-Brand-Imps',\n",
       "       'TV-Spec-Lumino-Imps', 'TV-Spec-Spon-Imps', 'TV-Total-Brand-GRPs',\n",
       "       'TV-Total-Lumino-GRPs', 'TV-Total-Spon-GRPs', 'TV-Conv-Brand-GRPs',\n",
       "       'TV-Conv-Lumino-GRPs', 'TV-Spec-Brand-GRPs', 'TV-Spec-Lumino-GRPs',\n",
       "       'TV-Spec-Spon-GRPs', 'OOH-Lumino', 'OOH-Brand', 'Radio-Brand',\n",
       "       'Radio-Lumino', 'Radio-QC', 'eDirects-SLGI', 'eDirects-GB', 'Base'],\n",
       "      dtype='object')"
      ]
     },
     "execution_count": 38,
     "metadata": {},
     "output_type": "execute_result"
    }
   ],
   "source": [
    "xvar.append(pd.Index([\"Base\"]))"
   ]
  },
  {
   "cell_type": "code",
   "execution_count": null,
   "id": "a1dbe00c",
   "metadata": {},
   "outputs": [],
   "source": []
  }
 ],
 "metadata": {
  "kernelspec": {
   "display_name": "Python 3 (ipykernel)",
   "language": "python",
   "name": "python3"
  },
  "language_info": {
   "codemirror_mode": {
    "name": "ipython",
    "version": 3
   },
   "file_extension": ".py",
   "mimetype": "text/x-python",
   "name": "python",
   "nbconvert_exporter": "python",
   "pygments_lexer": "ipython3",
   "version": "3.9.7"
  }
 },
 "nbformat": 4,
 "nbformat_minor": 5
}
